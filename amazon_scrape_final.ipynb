{
 "cells": [
  {
   "cell_type": "code",
   "execution_count": 2,
   "id": "63eac0a4",
   "metadata": {},
   "outputs": [],
   "source": [
    "from bs4 import BeautifulSoup\n",
    "import requests\n",
    "import pandas as pd\n",
    "import numpy as np\n",
    "from textblob import TextBlob\n",
    "import matplotlib.pyplot as plt\n",
    "import seaborn as sns"
   ]
  },
  {
   "cell_type": "code",
   "execution_count": 2,
   "id": "a333e89e",
   "metadata": {},
   "outputs": [],
   "source": [
    "# Function to extract Title of review\n",
    "def get_title(soup):\n",
    "\n",
    "    try:\n",
    "        title_string = soup.find(\"a\", attrs={\"data-hook\":'review-title'}).span.text.strip()\n",
    "    except AttributeError:\n",
    "        title_string = \"\"\n",
    "    return title_string\n",
    "\n",
    "# Function to extract name of customer\n",
    "def get_name(soup):\n",
    "    try:\n",
    "        name = soup.find(\"div\", attrs={'class':'a-row a-spacing-none'}).find('span', {'class': 'a-profile-name'}).text\n",
    "    except AttributeError:\n",
    "        name = \"\"\n",
    "    return name\n",
    "\n",
    "# Function to extract Product Rating\n",
    "def get_rating(soup):\n",
    "    try:\n",
    "        rating = soup.find(\"i\", attrs={'data-hook':'review-star-rating'}).string.strip()\n",
    "    except:\n",
    "        rating = \"\"\t\n",
    "    return rating\n",
    "\n",
    "# Function to extract Reviews\n",
    "def get_review(soup):\n",
    "    try:\n",
    "        review = soup.find(\"div\", attrs={'class':'reviewText'}).span.text\n",
    "    except AttributeError:\n",
    "        review = \"\"\t\n",
    "    return review\n",
    "\n",
    "# define a function to calculate the sentiment polarity using TextBlob\n",
    "def get_sentiment(review):\n",
    "    blob = TextBlob(review)\n",
    "    return blob.sentiment.polarity\n"
   ]
  },
  {
   "cell_type": "code",
   "execution_count": 4,
   "id": "4713b996",
   "metadata": {},
   "outputs": [],
   "source": [
    "\n",
    "if __name__ == '__main__':\n",
    "  HEADERS = ({'User-Agent':'', 'Accept-Language': 'en-US, en;q=0.5'})\n",
    "  new_webpage = requests.get(\"https://www.amazon.com/Apple-iPhone-512GB-Space-Black/dp/B0BN93JTWW/ref=sr_1_1?crid=2XJ5LNJ2NJ8LS&keywords=iphone+14+pro&qid=1679312726&sprefix=iphone+14+pro%2Caps%2C118&sr=8-1\", headers=HEADERS)\n",
    "  d = {\"name\":[], \"title\":[], \"rating\":[], \"review\":[], 'polarity':[]}\n",
    "  new_soup = BeautifulSoup(new_webpage.content, \"html.parser\")\n",
    "  # Function calls to display all necessary product information\n",
    "  reviews = new_soup.find(\"div\", attrs={'id':'cm-cr-dp-review-list'})\n",
    "  for i in reviews:\n",
    "    d['name'].append(get_name(i))\n",
    "    d['title'].append(get_title(i))\n",
    "    d['rating'].append(get_rating(i))\n",
    "    d['review'].append(get_review(i))\n",
    "  d['polarity'] = [get_sentiment(review) for review in d['review']]\n",
    "  amazon_df = pd.DataFrame.from_dict(d)\n",
    "  amazon_df['title'].replace('', np.nan, inplace=True)\n",
    "  amazon_df = amazon_df.dropna(subset=['title'])\n",
    "  amazon_df.to_csv(\"amazon_data.csv\", header=True, index=False)"
   ]
  },
  {
   "cell_type": "code",
   "execution_count": 10,
   "id": "c4ce3723",
   "metadata": {},
   "outputs": [
    {
     "data": {
      "image/png": "[encoded data removed]",
      "text/plain": [
       "<Figure size 600x300 with 1 Axes>"
      ]
     },
     "metadata": {},
     "output_type": "display_data"
    }
   ],
   "source": [
    "\n",
    "num_bins = 50\n",
    "plt.figure(figsize=(6,3))\n",
    "n, bins, patches = plt.hist(amazon_df.polarity, num_bins, facecolor='blue', alpha=0.5)\n",
    "plt.xlabel('Polarity')\n",
    "plt.ylabel('Number of Reviews')\n",
    "plt.title('Histogram of Polarity Score')\n",
    "plt.show()"
   ]
  },
  {
   "cell_type": "code",
   "execution_count": null,
   "id": "7204629e",
   "metadata": {},
   "outputs": [],
   "source": []
  }
 ],
 "metadata": {
  "kernelspec": {
   "display_name": "Python 3 (ipykernel)",
   "language": "python",
   "name": "python3"
  },
  "language_info": {
   "codemirror_mode": {
    "name": "ipython",
    "version": 3
   },
   "file_extension": ".py",
   "mimetype": "text/x-python",
   "name": "python",
   "nbconvert_exporter": "python",
   "pygments_lexer": "ipython3",
   "version": "3.9.13"
  }
 },
 "nbformat": 4,
 "nbformat_minor": 5
}
